{
 "cells": [
  {
   "cell_type": "markdown",
   "id": "ab1f6875",
   "metadata": {},
   "source": [
    "# S03 T01: Estructura de dades"
   ]
  },
  {
   "cell_type": "markdown",
   "id": "92bb66e2",
   "metadata": {},
   "source": [
    "## Exercici 1\n",
    "\n",
    "#### Crea una llista que agrupi els mesos de l’any en trimestres (1T: Gener, Febrer i Març, 2T: Abril, Maig, Juny...), és a dir, una llista amb 4 llistes dins."
   ]
  },
  {
   "cell_type": "code",
   "execution_count": 1,
   "id": "08239308",
   "metadata": {},
   "outputs": [],
   "source": [
    "mesos = [[\"Gener\", \"Febrer\", \"Març\"], [\"Abril\", \"Maig\", \"Juny\"], \n",
    "         [\"Juliol\", \"Agost\", \"Setembre\"], [\"Octubre\", \"Novembre\", \"Desembre\"]]"
   ]
  },
  {
   "cell_type": "markdown",
   "id": "eab7ff7f",
   "metadata": {},
   "source": [
    "## Exercici 2\n",
    "\n",
    "#### Crea un codi que et permeti accedir a:\n",
    "\n",
    "* El segon mes del primer trimestre\n",
    "* Els mesos del primer trimestre\n",
    "* Setembre i octubre"
   ]
  },
  {
   "cell_type": "code",
   "execution_count": 2,
   "id": "da0d05d8",
   "metadata": {},
   "outputs": [
    {
     "name": "stdout",
     "output_type": "stream",
     "text": [
      "El segon mes del primer trimestre es: Febrer\n"
     ]
    }
   ],
   "source": [
    "# Accedir al segon mes del primer trimestre\n",
    "print(\"El segon mes del primer trimestre es: \" + mesos[0][1])"
   ]
  },
  {
   "cell_type": "code",
   "execution_count": 3,
   "id": "0853d633",
   "metadata": {},
   "outputs": [
    {
     "name": "stdout",
     "output_type": "stream",
     "text": [
      "Els mesos del primer trimestre son: Gener, Febrer, Març\n"
     ]
    }
   ],
   "source": [
    "# Mesos del primer trimestre\n",
    "print(\"Els mesos del primer trimestre son: \" + \", \".join(mesos[0]))"
   ]
  },
  {
   "cell_type": "code",
   "execution_count": 4,
   "id": "f7a305b5",
   "metadata": {},
   "outputs": [
    {
     "name": "stdout",
     "output_type": "stream",
     "text": [
      "Setembre i Octubre\n"
     ]
    }
   ],
   "source": [
    "# Setembre y octubre\n",
    "print(mesos[2][-1] + \" i \" + mesos[3][0])"
   ]
  },
  {
   "cell_type": "markdown",
   "id": "4b278d7f",
   "metadata": {},
   "source": [
    "## Exercici 3\n",
    "\n",
    "#### Crea una llista amb nombres desordenats i respon a les següents preguntes:\n",
    "\n",
    "* Quants números hi ha?\n",
    "* Quantes vegades apareix el número 3\n",
    "* Quantes vegades apareixen els nombres 3 i 4?\n",
    "* Quin és el número més gran?\n",
    "* Quins són els 3 números més petits?\n",
    "* Quin és el rang d’aquesta llista?"
   ]
  },
  {
   "cell_type": "code",
   "execution_count": 5,
   "id": "bee56441",
   "metadata": {},
   "outputs": [
    {
     "name": "stdout",
     "output_type": "stream",
     "text": [
      "[6, 12, 0, 1, 10, 4, 3, 3, 7, 7, 0, 11, 12, 3, 6, 7, 6, 11, 5, 2, 0, 5, 9, 8, 10, 3, 6, 9, 8, 9]\n"
     ]
    }
   ],
   "source": [
    "# Importació del mòdul random per generar nombres aleatoris\n",
    "from random import randint\n",
    "\n",
    "# Crear la llista de nombres\n",
    "nombres = [randint(0, 12) for p in range(30)]\n",
    "print(nombres)"
   ]
  },
  {
   "cell_type": "code",
   "execution_count": 6,
   "id": "d13bef96",
   "metadata": {},
   "outputs": [
    {
     "name": "stdout",
     "output_type": "stream",
     "text": [
      "A la llista hi ha 30 números\n"
     ]
    }
   ],
   "source": [
    "# Quants números hi ha?\n",
    "print(\"A la llista hi ha {} números\".format(len(nombres)))"
   ]
  },
  {
   "cell_type": "code",
   "execution_count": 7,
   "id": "8cf0eadb",
   "metadata": {},
   "outputs": [
    {
     "name": "stdout",
     "output_type": "stream",
     "text": [
      "El número 3 hi apareix 4 vegades\n"
     ]
    }
   ],
   "source": [
    "# Quantes vegades apareix el número 3?\n",
    "print(\"El número 3 hi apareix {} vegades\".format(nombres.count(3)))"
   ]
  },
  {
   "cell_type": "code",
   "execution_count": 8,
   "id": "4936e8d9",
   "metadata": {},
   "outputs": [
    {
     "name": "stdout",
     "output_type": "stream",
     "text": [
      "El nombre 3 hi apareix 4 vegades i el nombre 4 hi apareix 1 vegades\n"
     ]
    }
   ],
   "source": [
    "# Quantes vegades apareixen els nombres 3 y 4?\n",
    "print(\"El nombre 3 hi apareix {} vegades i el nombre 4 hi apareix {} vegades\".format(nombres.count(3), \n",
    "                                                                                     nombres.count(4)))"
   ]
  },
  {
   "cell_type": "code",
   "execution_count": 9,
   "id": "8533ff33",
   "metadata": {},
   "outputs": [
    {
     "name": "stdout",
     "output_type": "stream",
     "text": [
      "El número més gran és: 12\n"
     ]
    }
   ],
   "source": [
    "# Quin és el número més gran?\n",
    "nombres.sort(reverse=True)\n",
    "print(\"El número més gran és: {}\".format(nombres[0]))"
   ]
  },
  {
   "cell_type": "code",
   "execution_count": 10,
   "id": "cdc013e5",
   "metadata": {},
   "outputs": [
    {
     "name": "stdout",
     "output_type": "stream",
     "text": [
      "Els tres números més petits son: 0, 1, 2\n"
     ]
    }
   ],
   "source": [
    "# Quins són els 3 números més petits?\n",
    "tres_nom = list(set(nombres))[:3]\n",
    "print(\"Els tres números més petits son: {}\".format(\", \".join([str(num) for num in tres_nom])))"
   ]
  },
  {
   "cell_type": "code",
   "execution_count": 11,
   "id": "3194e6b9",
   "metadata": {},
   "outputs": [
    {
     "name": "stdout",
     "output_type": "stream",
     "text": [
      "El rang d'aquest llista es 0 - 12\n"
     ]
    }
   ],
   "source": [
    "# Quin és el rang d’aquesta llista?\n",
    "nombres.sort()\n",
    "print(\"El rang d'aquest llista es {} - {}\".format(nombres[0], nombres[-1]))"
   ]
  },
  {
   "cell_type": "markdown",
   "id": "affc3e1a",
   "metadata": {},
   "source": [
    "## Exercici 4\n",
    "\n",
    "#### Crea un diccionari de la següent forma i respon a les preguntes:\n",
    "\n",
    "**compra = { \"Pomes\" : {\"Qty\": 5, \"€\": 0.42}, \"Peres\" : {\"Qty\": 3, \"€\": 0.66} }**\n",
    "\n",
    "* Afegeix alguna fruita més\n",
    "* Quant han costat les peres en total?\n",
    "* Quantes fruites hem comprat en total?\n",
    "* Quina és la fruita més cara?"
   ]
  },
  {
   "cell_type": "code",
   "execution_count": 12,
   "id": "10ab6db0",
   "metadata": {},
   "outputs": [
    {
     "name": "stdout",
     "output_type": "stream",
     "text": [
      "{'Pomes': {'Qty': 5, '€': 0.42}, 'Peres': {'Qty': 3, '€': 0.66}}\n"
     ]
    }
   ],
   "source": [
    "# Creació del diccionari\n",
    "compra = { \"Pomes\" : {\"Qty\": 5, \"€\": 0.42}, \"Peres\" : {\"Qty\": 3, \"€\": 0.66} }\n",
    "print(compra)"
   ]
  },
  {
   "cell_type": "code",
   "execution_count": 13,
   "id": "e953877d",
   "metadata": {},
   "outputs": [
    {
     "name": "stdout",
     "output_type": "stream",
     "text": [
      "{'Pomes': {'Qty': 5, '€': 0.42}, 'Peres': {'Qty': 3, '€': 0.66}, 'Plàtans': {'Qty': 7, '€': 1.25}, 'Taronges': {'Qty': 6, '€': 0.78}}\n"
     ]
    }
   ],
   "source": [
    "# Afegeix alguna fruita més: Plàtans i Taronges\n",
    "compra[\"Plàtans\"] = {\"Qty\": 7, \"€\": 1.25}\n",
    "compra[\"Taronges\"] = {\"Qty\": 6, \"€\": 0.78}\n",
    "print(compra)"
   ]
  },
  {
   "cell_type": "code",
   "execution_count": 14,
   "id": "5f1977ad",
   "metadata": {},
   "outputs": [
    {
     "name": "stdout",
     "output_type": "stream",
     "text": [
      "Les peres han costat en total 1.98 €\n"
     ]
    }
   ],
   "source": [
    "# Quant han costat les peres en total?\n",
    "total_peres = compra[\"Peres\"][\"Qty\"] * compra[\"Peres\"][\"€\"]\n",
    "print(\"Les peres han costat en total {} €\".format(total_peres))"
   ]
  },
  {
   "cell_type": "code",
   "execution_count": 15,
   "id": "fa5690f6",
   "metadata": {},
   "outputs": [
    {
     "name": "stdout",
     "output_type": "stream",
     "text": [
      "Hem comprat en total 21 fruites\n"
     ]
    }
   ],
   "source": [
    "# Quantes fruites hem comprat en total?\n",
    "total_fruites = compra[\"Pomes\"].get(\"Qty\") + compra[\"Peres\"].get(\"Qty\") + compra[\"Plàtans\"].get(\"Qty\") + compra[\"Taronges\"].get(\"Qty\")\n",
    "print(\"Hem comprat en total {} fruites\".format(total_fruites))"
   ]
  },
  {
   "cell_type": "code",
   "execution_count": 16,
   "id": "8141320b",
   "metadata": {},
   "outputs": [
    {
     "name": "stdout",
     "output_type": "stream",
     "text": [
      "La fruita més cara son Plàtans amb un preu de 1.25 €\n"
     ]
    }
   ],
   "source": [
    "# Quina és la fruita més cara?\n",
    "\n",
    "# Obtenir una llista amb tots els preus\n",
    "preus = [x.get(\"€\") for x in compra.values()]\n",
    "\n",
    "# Obtenir el preu més car. Primer element de la llista de tots els preus ordenada de major a manor\n",
    "max_preu = sorted(preus, reverse = True)[0]\n",
    "\n",
    "# Obtenir el nom de la fruita més cara. Utilitzant l'índex del preu més alt a la llista de las claus del diccionari\n",
    "fruita_cara = list(compra.keys())[preus.index(max_preu)]\n",
    "\n",
    "print(\"La fruita més cara son {} amb un preu de {} €\".format(fruita_cara, max_preu))"
   ]
  },
  {
   "cell_type": "code",
   "execution_count": null,
   "id": "bb1fc1f7",
   "metadata": {},
   "outputs": [],
   "source": []
  }
 ],
 "metadata": {
  "kernelspec": {
   "display_name": "Python 3",
   "language": "python",
   "name": "python3"
  },
  "language_info": {
   "codemirror_mode": {
    "name": "ipython",
    "version": 3
   },
   "file_extension": ".py",
   "mimetype": "text/x-python",
   "name": "python",
   "nbconvert_exporter": "python",
   "pygments_lexer": "ipython3",
   "version": "3.8.8"
  },
  "latex_envs": {
   "LaTeX_envs_menu_present": true,
   "autoclose": false,
   "autocomplete": true,
   "bibliofile": "biblio.bib",
   "cite_by": "apalike",
   "current_citInitial": 1,
   "eqLabelWithNumbers": true,
   "eqNumInitial": 1,
   "hotkeys": {
    "equation": "Ctrl-E",
    "itemize": "Ctrl-I"
   },
   "labels_anchors": false,
   "latex_user_defs": false,
   "report_style_numbering": false,
   "user_envs_cfg": false
  }
 },
 "nbformat": 4,
 "nbformat_minor": 5
}
